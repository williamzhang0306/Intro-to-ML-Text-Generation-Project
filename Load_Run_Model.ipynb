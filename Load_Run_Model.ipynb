{
 "cells": [
  {
   "cell_type": "code",
   "execution_count": 4,
   "metadata": {},
   "outputs": [],
   "source": [
    "import tensorflow as tf\n",
    "from tensorflow.keras.layers.experimental import preprocessing\n",
    "\n",
    "import numpy as np\n",
    "import os\n",
    "import time\n",
    "\n"
   ]
  },
  {
   "cell_type": "code",
   "execution_count": 15,
   "metadata": {},
   "outputs": [
    {
     "name": "stdout",
     "output_type": "stream",
     "text": [
      "Introduction:\n",
      "The demand of the antebellum South and ran who were \n",
      "suffering in South Africa. His efforts never went in vain because in the early 1980’s, Ashley was a major farther and faster. The reality was that\n",
      "\"the continued wanderings of the ships no don’t have as many rivalries as the\n",
      "Habsburgs. Because of these factors, many German states were more compared wo the other major city was Marseille,\n",
      "bloods were some people across the nation worked towards \n",
      "civil rights amendments and large bombinss, which true factions. Most of the rest of the world\n",
      "condemin classist prejudice created further mentaling the “villing not only 6 years before the beginning of the\n",
      "first war of German unification movement? More improving the southern city of Kandahar. Fig. 1 illustrates the “recoprigion warrons because the Charlottetown Conference resides in the fact John A.\n",
      "Macdonald was approached by George Brown to join hands in constitutional reform\n",
      "during the 1600s which allowed for a natural increase in population in the U. .05 as depression, while researchers such\n",
      "as Orth and the Soviet withdrawal the Peshal colonies of New Brunswick, Nova Scotia, and\n",
      "the Province of Canada officially became or\n",
      "surrender while the rest of the moderat\n",
      "\n",
      "African American girls to see her and get inspired. These girls influence state for the rampant behavior and people he saw in the cities. It is also\n",
      "important to draw the final conclusion.\n",
      "As we have analyzed the death of a Muslim. Khan Janiber addition,\n",
      "intelligence tests were used to determine who was “feebleminded” were possibly created with classist intent, it is more\n",
      "accurate to put most of the success of Prussia upon the Italians. Secondly,\n",
      "there is extensive processes, the Soviets and other students would become\n",
      "fellow Fathers of the Canadian Confederation and become the North had a self-sufficient society\n",
      "without needing to rely on imports for food or materias - the brian\n",
      "damage on Austria’s provincial acuiting the United States and China, so the aspects of the 1200s as the moderat\n",
      "\n",
      "African American girls to see how it is affected by low self-esteem and the development of clinical\n",
      "depression. This is another social ladder as its policies disproportionately targeted the underprivileged members\n",
      "of American support for the Italian cause, it was clear that a disease within cities and led to the conditions for the\n",
      "statements and supported by the\n",
      "examine the problem of the army and even give them more modern technology that\n",
      "gave them superiority in competential tiped as a distribution of slavery and segregation in the US, it is unsurprising that many\n",
      "of the targeted Afrection who had depression at the time of the study, yet still not as high as the control\n",
      "group to a Jole Went does away the shown that showcating the land for their\n",
      "benefits.\n",
      "Although Kansas and Nebraska eventually entered the war. First, the US did not retermine the events that led\n",
      "to the Dominion of Canada, a confederation of Canadian provinces consisting their\n",
      "political stances, yet Ashe was very strong condinied where the same peoples only dozens of\n",
      "miles north of the border. The Tajik and by the same time, whenever she was gay, in other would make it\n",
      "through. Although this tactic was used in large scale problem. A more careful\n",
      "precaution can be made in the future when a similar idea is important \n",
      "aspect of life (Laurie, 1999). Her courage and teed as a develop into Clinical Depression?\n",
      "Introduction:\n",
      "The question that must be asked is how are star athletes and their impact on sports had to be \n",
      "analyzed holistically and finally the people would not have had an\n",
      "influence on the development of clinical depression still\n",
      "remained. An example of this was shown as the United States and made them\n",
      "a natural risk factors for don’t land a werd enter the casualties of relatives. She would hold Tara, if she had to break\n",
      "the back of every person on it” (Mitchell 428), because\n",
      "of the dominant causion of American soldiers along with the same \n",
      "opportunities through their excellence and ability to stand them understanding the people would not have had an\n",
      "influence on the development of clinical depression still\n",
      "remained. An example of this was shown as the University of California, to deem de' Mussis, it began with a conserative forcts in America\" (qtd. in Kelly 5). The Italian war, which measured quotas of the Eugenics Movement\n",
      "demonstrates the damaging social consequences science could cause a third\n",
      "was a view of commet at a business, young Macdonald quickly needed to find\n",
      "a source of income assassing the control group (Ruda-Kucerova, et al. 2). This neural relied that all men are born with\n",
      "certain unalian was that depression exists out the same thing the parent said. \n",
      "Although the parents words are understood and the child may obey, and his brothers in the South (“Wilmot Proviso (1846). In addition, as soon\n",
      "as Tara, also had access to schools at all (Brookwood 2). However,\n",
      "considering the \n"
     ]
    }
   ],
   "source": [
    "one_step_reloaded = tf.saved_model.load('2_Layer_GRU')\n",
    "states = None\n",
    "next_char = tf.constant(['Introduction:'])\n",
    "result = [next_char]\n",
    "\n",
    "for n in range(5000):\n",
    "    next_char, states = one_step_reloaded.generate_one_step(next_char, states=states)\n",
    "    result.append(next_char)\n",
    "\n",
    "print(tf.strings.join(result)[0].numpy().decode(\"utf-8\"))"
   ]
  },
  {
   "cell_type": "code",
   "execution_count": null,
   "metadata": {},
   "outputs": [],
   "source": []
  }
 ],
 "metadata": {
  "kernelspec": {
   "display_name": "Python 3",
   "language": "python",
   "name": "python3"
  },
  "language_info": {
   "codemirror_mode": {
    "name": "ipython",
    "version": 3
   },
   "file_extension": ".py",
   "mimetype": "text/x-python",
   "name": "python",
   "nbconvert_exporter": "python",
   "pygments_lexer": "ipython3",
   "version": "3.8.5"
  }
 },
 "nbformat": 4,
 "nbformat_minor": 4
}
